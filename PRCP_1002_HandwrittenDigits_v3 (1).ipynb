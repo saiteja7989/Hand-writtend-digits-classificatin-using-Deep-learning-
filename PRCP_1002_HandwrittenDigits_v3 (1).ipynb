{
  "nbformat": 4,
  "nbformat_minor": 0,
  "metadata": {
    "colab": {
      "provenance": []
    },
    "kernelspec": {
      "name": "python3",
      "display_name": "Python 3"
    },
    "language_info": {
      "name": "python"
    }
  },
  "cells": [
    {
      "cell_type": "code",
      "execution_count": null,
      "metadata": {
        "id": "G3S0TML11bCs"
      },
      "outputs": [],
      "source": [
        "#1. Importing Required Libraries\n",
        "\n",
        "import tensorflow as tf\n",
        "from tensorflow.keras.models import Sequential\n",
        "from tensorflow.keras.layers import Dense, Flatten, Conv2D, MaxPooling2D, Dropout\n",
        "from tensorflow.keras.datasets import mnist\n",
        "from tensorflow.keras.utils import to_categorical\n"
      ]
    },
    {
      "cell_type": "code",
      "source": [
        "#TensorFlow is a popular machine learning framework, and its Keras API simplifies building and training neural networks.\n",
        "\n",
        "#Sequential Model: A linear stack of layers is defined sequentially, making it suitable for simpler architectures like CNNs.\n"
      ],
      "metadata": {
        "id": "i5ccFeC1-wQK"
      },
      "execution_count": null,
      "outputs": []
    },
    {
      "cell_type": "code",
      "source": [
        "\n",
        "#Layers:\n",
        "\n",
        "#Dense: Fully connected layers, used for classification.\n",
        "\n",
        "#Flatten: Converts multidimensional input into a 1D array, acting as a bridge between convolutional and dense layers.\n",
        "\n",
        "#Conv2D: Convolutional layers used for feature extraction.\n",
        "\n",
        "#MaxPooling2D: Downsampling layer that reduces dimensionality, retaining essential information.\n",
        "\n",
        "#Dropout: Regularization layer to prevent overfitting by randomly dropping connections during training.\n",
        "\n",
        "#MNIST Dataset: Built-in dataset containing grayscale images of handwritten digits (0-9).\n",
        "\n",
        "#to_categorical: Converts integer labels into one-hot encoding required for classification tasks.\n"
      ],
      "metadata": {
        "id": "2bkxWxXi-wcR"
      },
      "execution_count": null,
      "outputs": []
    },
    {
      "cell_type": "code",
      "source": [
        "#2. Loading and Preprocessing Data\n",
        "\n",
        "\n",
        "\n",
        "(x_train, y_train), (x_test, y_test) = mnist.load_data()\n",
        "\n",
        "x_train = x_train.reshape(-1, 28, 28, 1).astype('float32') / 255.0\n",
        "x_test = x_test.reshape(-1, 28, 28, 1).astype('float32') / 255.0\n",
        "\n",
        "y_train = to_categorical(y_train, 10)\n",
        "y_test = to_categorical(y_test, 10)\n"
      ],
      "metadata": {
        "colab": {
          "base_uri": "https://localhost:8080/"
        },
        "id": "AXEzzpC2_Zxu",
        "outputId": "015076b7-fe00-4fae-b496-b3ec11d7a6be"
      },
      "execution_count": null,
      "outputs": [
        {
          "output_type": "stream",
          "name": "stdout",
          "text": [
            "Downloading data from https://storage.googleapis.com/tensorflow/tf-keras-datasets/mnist.npz\n",
            "\u001b[1m11490434/11490434\u001b[0m \u001b[32m━━━━━━━━━━━━━━━━━━━━\u001b[0m\u001b[37m\u001b[0m \u001b[1m0s\u001b[0m 0us/step\n"
          ]
        }
      ]
    },
    {
      "cell_type": "code",
      "source": [
        "#Loading Data: The MNIST dataset is split into training (60,000 samples) and testing (10,000 samples).\n",
        "\n",
        "#Reshaping Data: Adds a channel dimension (1 for grayscale images) required for CNN input.\n",
        "\n",
        "#Normalization: Pixel values (0–255) are scaled to [0, 1] to speed up learning and improve performance.\n",
        "\n",
        "#One-hot Encoding: Converts labels into binary vectors (e.g., 7 -> [0,0,0,0,0,0,0,1,0,0]), enabling categorical classification.\n"
      ],
      "metadata": {
        "id": "lOLk3W4V-wkO"
      },
      "execution_count": null,
      "outputs": []
    },
    {
      "cell_type": "code",
      "source": [
        "\n",
        "#3. Building the CNN and ANN Hybrid Model\n",
        "\n",
        "model = Sequential([\n",
        "    Conv2D(32, kernel_size=(3, 3), activation='relu', input_shape=(28, 28, 1)),\n",
        "    MaxPooling2D(pool_size=(2, 2)),\n",
        "    Dropout(0.25),\n",
        "\n",
        "    Conv2D(64, kernel_size=(3, 3), activation='relu'),\n",
        "    MaxPooling2D(pool_size=(2, 2)),\n",
        "    Dropout(0.25),\n",
        "\n",
        "    Flatten(),\n",
        "    Dense(128, activation='relu'),\n",
        "    Dropout(0.5),\n",
        "    Dense(10, activation='softmax')\n",
        "])\n"
      ],
      "metadata": {
        "colab": {
          "base_uri": "https://localhost:8080/"
        },
        "id": "XPPqqZuJ-wnG",
        "outputId": "fbd31960-6965-420d-ed59-95194150ae84"
      },
      "execution_count": null,
      "outputs": [
        {
          "output_type": "stream",
          "name": "stderr",
          "text": [
            "/usr/local/lib/python3.10/dist-packages/keras/src/layers/convolutional/base_conv.py:107: UserWarning: Do not pass an `input_shape`/`input_dim` argument to a layer. When using Sequential models, prefer using an `Input(shape)` object as the first layer in the model instead.\n",
            "  super().__init__(activity_regularizer=activity_regularizer, **kwargs)\n"
          ]
        }
      ]
    },
    {
      "cell_type": "code",
      "source": [
        "\n",
        "\n",
        "#Layer 1: Conv2D layer with 32 filters of size 3x3 detects patterns such as edges and textures.\n",
        "\n",
        "#MaxPooling: Reduces spatial size by 2x2, retaining significant features and reducing computational load.\n",
        "\n",
        "#Dropout: Drops 25% of neurons, reducing dependency on specific neurons and preventing overfitting.\n",
        "\n",
        "#Layer 2: Another Conv2D layer with 64 filters, learning more complex features.\n",
        "\n",
        "#Flatten: Flattens the 2D feature maps into a 1D array for dense layers.\n",
        "\n",
        "#Dense Layers: Fully connected layers interpret features for classification.\n",
        "\n",
        "#Output Layer: Uses a softmax activation function for multiclass classification (10 classes).\n",
        "\n",
        "#Why this architecture?\n",
        "\n",
        "#Combines CNN (feature extraction) and ANN (classification).\n",
        "\n",
        "#Dropout prevents overfitting, ensuring better generalization.\n",
        "\n",
        "#The final softmax layer outputs class probabilities for digit recognition."
      ],
      "metadata": {
        "id": "ZfK8ctKm-wp2"
      },
      "execution_count": null,
      "outputs": []
    },
    {
      "cell_type": "code",
      "source": [
        "#4. Compiling the Model\n",
        "\n",
        "model.compile(optimizer='adam',\n",
        "              loss='categorical_crossentropy',\n",
        "              metrics=['accuracy'])"
      ],
      "metadata": {
        "id": "VLxqiH6J-wsq"
      },
      "execution_count": null,
      "outputs": []
    },
    {
      "cell_type": "code",
      "source": [
        "\n",
        "#Optimizer: Adam optimizer dynamically adjusts learning rates for better performance.\n",
        "\n",
        "#Loss Function: Categorical cross-entropy is used because we have a multiclass classification problem.\n",
        "\n",
        "#Metrics: Accuracy is used to evaluate model performance."
      ],
      "metadata": {
        "id": "i2U0ppCX-wvi"
      },
      "execution_count": null,
      "outputs": []
    },
    {
      "cell_type": "code",
      "source": [
        "#5. Training the Model\n",
        "\n",
        "model.fit(x_train, y_train, epochs=10, batch_size=64, validation_split=0.2)\n",
        "\n",
        "#Epochs: 10 iterations over the entire dataset.\n",
        "\n",
        "#Batch Size: Processes 64 samples at a time, optimizing memory usage and training speed.\n",
        "\n",
        "#Validation Split: 20% of training data is reserved for validation to monitor performance and avoid overfitting."
      ],
      "metadata": {
        "colab": {
          "base_uri": "https://localhost:8080/"
        },
        "id": "nRvJo3fC-wyX",
        "outputId": "a2079322-7b5c-4e77-80d3-e04738c79799"
      },
      "execution_count": null,
      "outputs": [
        {
          "output_type": "stream",
          "name": "stdout",
          "text": [
            "Epoch 1/10\n",
            "\u001b[1m750/750\u001b[0m \u001b[32m━━━━━━━━━━━━━━━━━━━━\u001b[0m\u001b[37m\u001b[0m \u001b[1m56s\u001b[0m 72ms/step - accuracy: 0.7789 - loss: 0.6732 - val_accuracy: 0.9761 - val_loss: 0.0778\n",
            "Epoch 2/10\n",
            "\u001b[1m750/750\u001b[0m \u001b[32m━━━━━━━━━━━━━━━━━━━━\u001b[0m\u001b[37m\u001b[0m \u001b[1m46s\u001b[0m 61ms/step - accuracy: 0.9617 - loss: 0.1304 - val_accuracy: 0.9864 - val_loss: 0.0473\n",
            "Epoch 3/10\n",
            "\u001b[1m750/750\u001b[0m \u001b[32m━━━━━━━━━━━━━━━━━━━━\u001b[0m\u001b[37m\u001b[0m \u001b[1m83s\u001b[0m 62ms/step - accuracy: 0.9730 - loss: 0.0907 - val_accuracy: 0.9880 - val_loss: 0.0410\n",
            "Epoch 4/10\n",
            "\u001b[1m750/750\u001b[0m \u001b[32m━━━━━━━━━━━━━━━━━━━━\u001b[0m\u001b[37m\u001b[0m \u001b[1m47s\u001b[0m 63ms/step - accuracy: 0.9775 - loss: 0.0731 - val_accuracy: 0.9893 - val_loss: 0.0378\n",
            "Epoch 5/10\n",
            "\u001b[1m750/750\u001b[0m \u001b[32m━━━━━━━━━━━━━━━━━━━━\u001b[0m\u001b[37m\u001b[0m \u001b[1m80s\u001b[0m 60ms/step - accuracy: 0.9792 - loss: 0.0677 - val_accuracy: 0.9894 - val_loss: 0.0375\n",
            "Epoch 6/10\n",
            "\u001b[1m750/750\u001b[0m \u001b[32m━━━━━━━━━━━━━━━━━━━━\u001b[0m\u001b[37m\u001b[0m \u001b[1m84s\u001b[0m 63ms/step - accuracy: 0.9803 - loss: 0.0622 - val_accuracy: 0.9906 - val_loss: 0.0353\n",
            "Epoch 7/10\n",
            "\u001b[1m750/750\u001b[0m \u001b[32m━━━━━━━━━━━━━━━━━━━━\u001b[0m\u001b[37m\u001b[0m \u001b[1m80s\u001b[0m 60ms/step - accuracy: 0.9827 - loss: 0.0534 - val_accuracy: 0.9903 - val_loss: 0.0330\n",
            "Epoch 8/10\n",
            "\u001b[1m750/750\u001b[0m \u001b[32m━━━━━━━━━━━━━━━━━━━━\u001b[0m\u001b[37m\u001b[0m \u001b[1m82s\u001b[0m 60ms/step - accuracy: 0.9850 - loss: 0.0476 - val_accuracy: 0.9914 - val_loss: 0.0317\n",
            "Epoch 9/10\n",
            "\u001b[1m750/750\u001b[0m \u001b[32m━━━━━━━━━━━━━━━━━━━━\u001b[0m\u001b[37m\u001b[0m \u001b[1m85s\u001b[0m 64ms/step - accuracy: 0.9849 - loss: 0.0493 - val_accuracy: 0.9918 - val_loss: 0.0305\n",
            "Epoch 10/10\n",
            "\u001b[1m750/750\u001b[0m \u001b[32m━━━━━━━━━━━━━━━━━━━━\u001b[0m\u001b[37m\u001b[0m \u001b[1m80s\u001b[0m 61ms/step - accuracy: 0.9871 - loss: 0.0400 - val_accuracy: 0.9914 - val_loss: 0.0330\n"
          ]
        },
        {
          "output_type": "execute_result",
          "data": {
            "text/plain": [
              "<keras.src.callbacks.history.History at 0x7dc219d14640>"
            ]
          },
          "metadata": {},
          "execution_count": 14
        }
      ]
    },
    {
      "cell_type": "code",
      "source": [
        "#6. Evaluating the Model\n",
        "\n",
        "test_loss, test_accuracy = model.evaluate(x_test, y_test, verbose=2)\n",
        "print(f\"\\nTest Accuracy: {test_accuracy * 100:.2f}%\")\n",
        "\n",
        "#Evaluates the model using unseen test data.\n",
        "\n",
        "#Reports accuracy as a percentage."
      ],
      "metadata": {
        "colab": {
          "base_uri": "https://localhost:8080/"
        },
        "id": "5518jgxy-w1W",
        "outputId": "36623247-b634-4846-afc3-307f3b63c6e7"
      },
      "execution_count": null,
      "outputs": [
        {
          "output_type": "stream",
          "name": "stdout",
          "text": [
            "313/313 - 2s - 7ms/step - accuracy: 0.9915 - loss: 0.0298\n",
            "\n",
            "Test Accuracy: 99.15%\n"
          ]
        }
      ]
    },
    {
      "cell_type": "code",
      "source": [
        "#7. Saving and Loading the Model\n",
        "\n",
        "model.save(\"mnist_cnn_ann_model.h5\")\n",
        "\n",
        "#Saves the model in HDF5 format for reuse or deployment without retraining.\n",
        "\n",
        "#loaded_model = tf.keras.models.load_model(\"mnist_cnn_ann_model.h5\")\n",
        "\n"
      ],
      "metadata": {
        "colab": {
          "base_uri": "https://localhost:8080/"
        },
        "id": "QxB4P6PJ-w32",
        "outputId": "ff9dfab0-4318-4c6f-8f21-86c12db1ccef"
      },
      "execution_count": null,
      "outputs": [
        {
          "output_type": "stream",
          "name": "stderr",
          "text": [
            "WARNING:absl:You are saving your model as an HDF5 file via `model.save()` or `keras.saving.save_model(model)`. This file format is considered legacy. We recommend using instead the native Keras format, e.g. `model.save('my_model.keras')` or `keras.saving.save_model(model, 'my_model.keras')`. \n"
          ]
        }
      ]
    },
    {
      "cell_type": "markdown",
      "source": [
        "**Analysis**\n",
        "1)TensorFlow and its Keras API are used for constructing and training neural networks. Key layers include Dense, Flatten, Conv2D, MaxPooling2D, and Dropout.\n",
        "\n",
        "2)The MNIST dataset is loaded and preprocessed, including reshaping images and normalizing pixel values to a range of 0 to 1.\n",
        "\n",
        "3)\n"
      ],
      "metadata": {
        "id": "0-52wpgkl3Ba"
      }
    }
  ]
}